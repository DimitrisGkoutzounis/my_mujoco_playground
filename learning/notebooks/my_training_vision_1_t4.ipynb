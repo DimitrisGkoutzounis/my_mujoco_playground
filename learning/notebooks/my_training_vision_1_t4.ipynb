{
 "cells": [
  {
   "cell_type": "markdown",
   "id": "ace56453",
   "metadata": {
    "id": "ace56453"
   },
   "source": [
    "![MuJoCo banner](https://raw.githubusercontent.com/google-deepmind/mujoco/main/banner.png)\n",
    "\n",
    "\n",
    "\n",
    "\n",
    "\n",
    "\n",
    "\n",
    "### Copyright notice\n",
    "\n",
    "> <p><small><small>Copyright 2025 DeepMind Technologies Limited.</small></p>\n",
    "> <p><small><small>Licensed under the Apache License, Version 2.0 (the \"License\"); you may not use this file except in compliance with the License. You may obtain a copy of the License at <a href=\"http://www.apache.org/licenses/LICENSE-2.0\">http://www.apache.org/licenses/LICENSE-2.0</a>.</small></small></p>\n",
    "> <p><small><small>Unless required by applicable law or agreed to in writing, software distributed under the License is distributed on an \"AS IS\" BASIS, WITHOUT WARRANTIES OR CONDITIONS OF ANY KIND, either express or implied. See the License for the specific language governing permissions and limitations under the License.</small></small></p>"
   ]
  },
  {
   "cell_type": "markdown",
   "id": "4be2d8a0",
   "metadata": {},
   "source": [
    "# Tutorial\n",
    "\n",
    "This notebook is the first of two that demonstrate pixels-to-actions training using the experimental Madrona rendering backend.\n",
    "\n",
    "### Usage\n",
    "\n",
    "This is a simplified version of the main cartpole balance [tutorial](https://github.com/google-deepmind/mujoco_playground/blob/main/learning/notebooks/training_vision_1.ipynb), adjusted to run on a hosted instance with a T4 GPU."
   ]
  },
  {
   "cell_type": "markdown",
   "id": "574fcff5",
   "metadata": {
    "id": "574fcff5"
   },
   "source": [
    "### Build and Install Madrona MJX (5 min on hosted instance)"
   ]
  },
  {
   "cell_type": "code",
   "execution_count": null,
   "id": "be30d4a9",
   "metadata": {
    "id": "be30d4a9"
   },
   "outputs": [],
   "source": [
    "# %%bash\n",
    "# cat >setup.bash <<EOF\n",
    "\n",
    "# # Ensure Jax matches the CUDA that will be used to build Madrona MJX\n",
    "# !pip uninstall -y jax\n",
    "# !pip install jax[\"cuda12_local\"]==0.4.35\n",
    "\n",
    "# ! sudo apt install libx11-dev libxrandr-dev libxinerama-dev libxcursor-dev libxi-dev mesa-common-dev\n",
    "\n",
    "# # Prevent Python from trying to import the source packages.\n",
    "# mkdir modules\n",
    "# cd modules\n",
    "\n",
    "# # -- 7) Install madrona-mjx\n",
    "# echo \"Cloning madrona-mjx...\"\n",
    "# git clone https://github.com/shacklettbp/madrona_mjx.git\n",
    "\n",
    "# cd madrona_mjx\n",
    "# git submodule update --init --recursive\n",
    "\n",
    "# mkdir build\n",
    "# cd build\n",
    "# cmake -DLOAD_VULKAN=OFF ..\n",
    "# make -j 8\n",
    "\n",
    "# cd ..\n",
    "# pip install -e .\n",
    "# EOF"
   ]
  },
  {
   "cell_type": "code",
   "execution_count": null,
   "id": "9758b8b6",
   "metadata": {
    "id": "9758b8b6"
   },
   "outputs": [],
   "source": [
    "import subprocess\n",
    "# Run the setup.bash script\n",
    "subprocess.run([\"bash\", \"setup.bash\"], check=True)"
   ]
  },
  {
   "cell_type": "markdown",
   "id": "HizwPjwEEEei",
   "metadata": {
    "id": "HizwPjwEEEei"
   },
   "source": [
    "Now, after installing Madrona MJX, please **restart your colab** instance! (`Runtime -> Restart session`)"
   ]
  },
  {
   "cell_type": "markdown",
   "id": "1a90aa84",
   "metadata": {
    "id": "1a90aa84"
   },
   "source": [
    "### Install Playground and Pre-requisites"
   ]
  },
  {
   "cell_type": "code",
   "execution_count": null,
   "id": "f617d7bc",
   "metadata": {
    "colab": {
     "base_uri": "https://localhost:8080/"
    },
    "id": "f617d7bc",
    "outputId": "5a27109f-820f-4701-838d-ea3cd257afae"
   },
   "outputs": [],
   "source": [
    "# !pip install mujoco\n",
    "# !pip install mujoco_mjx\n",
    "# !pip install brax\n",
    "# !pip install playground\n",
    "# !command -v ffmpeg >/dev/null || (apt update && apt install -y ffmpeg)\n",
    "# !pip install -q mediapy"
   ]
  },
  {
   "cell_type": "code",
   "execution_count": 1,
   "id": "4e8b1475",
   "metadata": {
    "colab": {
     "base_uri": "https://localhost:8080/"
    },
    "id": "4e8b1475",
    "outputId": "1120b827-f11f-4296-e655-dd69c873c440"
   },
   "outputs": [
    {
     "name": "stdout",
     "output_type": "stream",
     "text": [
      "Fri Apr 25 15:41:48 2025       \n",
      "+---------------------------------------------------------------------------------------+\n",
      "| NVIDIA-SMI 535.183.01             Driver Version: 535.183.01   CUDA Version: 12.2     |\n",
      "|-----------------------------------------+----------------------+----------------------+\n",
      "| GPU  Name                 Persistence-M | Bus-Id        Disp.A | Volatile Uncorr. ECC |\n",
      "| Fan  Temp   Perf          Pwr:Usage/Cap |         Memory-Usage | GPU-Util  Compute M. |\n",
      "|                                         |                      |               MIG M. |\n",
      "|=========================================+======================+======================|\n",
      "|   0  NVIDIA GeForce RTX 3060        Off | 00000000:01:00.0  On |                  N/A |\n",
      "|  0%   49C    P5              22W / 170W |    718MiB / 12288MiB |     22%      Default |\n",
      "|                                         |                      |                  N/A |\n",
      "+-----------------------------------------+----------------------+----------------------+\n",
      "                                                                                         \n",
      "+---------------------------------------------------------------------------------------+\n",
      "| Processes:                                                                            |\n",
      "|  GPU   GI   CI        PID   Type   Process name                            GPU Memory |\n",
      "|        ID   ID                                                             Usage      |\n",
      "|=======================================================================================|\n",
      "|    0   N/A  N/A      1124      G   /usr/lib/xorg/Xorg                           59MiB |\n",
      "|    0   N/A  N/A      1566      G   /usr/lib/xorg/Xorg                          188MiB |\n",
      "|    0   N/A  N/A      1693      G   /usr/bin/gnome-shell                         39MiB |\n",
      "|    0   N/A  N/A      1937    C+G   /usr/bin/anydesk                              6MiB |\n",
      "|    0   N/A  N/A      3324      G   ...erProcess --variations-seed-version      240MiB |\n",
      "|    0   N/A  N/A      7108      G   /usr/lib/firefox/firefox                    137MiB |\n",
      "+---------------------------------------------------------------------------------------+\n",
      "Setting environment variable to use GPU rendering:\n",
      "env: MUJOCO_GL=egl\n",
      "Checking that the installation succeeded:\n",
      "Installation successful.\n"
     ]
    }
   ],
   "source": [
    "# @title Configuration for both local and for Colab instances.\n",
    "\n",
    "# On your second reading, load the compiled rendering backend to save time!\n",
    "import os\n",
    "os.environ[\"XLA_PYTHON_CLIENT_PREALLOCATE\"] = \"false\"\n",
    "\n",
    "# Check if MuJoCo installation was successful\n",
    "import distutils.util\n",
    "import os\n",
    "import subprocess\n",
    "if subprocess.run('nvidia-smi').returncode:\n",
    "    raise RuntimeError(\n",
    "        'Cannot communicate with GPU. '\n",
    "        'Make sure you are using a GPU Colab runtime. '\n",
    "        'Go to the Runtime menu and select Choose runtime type.'\n",
    "    )\n",
    "\n",
    "# Add an ICD config so that glvnd can pick up the Nvidia EGL driver.\n",
    "# This is usually installed as part of an Nvidia driver package, but the Colab\n",
    "# kernel doesn't install its driver via APT, and as a result the ICD is missing.\n",
    "# (https://github.com/NVIDIA/libglvnd/blob/master/src/EGL/icd_enumeration.md)\n",
    "NVIDIA_ICD_CONFIG_PATH = '/usr/share/glvnd/egl_vendor.d/10_nvidia.json'\n",
    "if not os.path.exists(NVIDIA_ICD_CONFIG_PATH):\n",
    "    with open(NVIDIA_ICD_CONFIG_PATH, 'w') as f:\n",
    "        f.write(\"\"\"{\n",
    "        \"file_format_version\" : \"1.0.0\",\n",
    "        \"ICD\" : {\n",
    "            \"library_path\" : \"libEGL_nvidia.so.0\"\n",
    "        }\n",
    "    }\n",
    "    \"\"\")\n",
    "\n",
    "# Configure MuJoCo to use the EGL rendering backend (requires GPU)\n",
    "print('Setting environment variable to use GPU rendering:')\n",
    "%env MUJOCO_GL=egl\n",
    "\n",
    "try:\n",
    "    print('Checking that the installation succeeded:')\n",
    "    import mujoco\n",
    "\n",
    "    mujoco.MjModel.from_xml_string('<mujoco/>')\n",
    "except Exception as e:\n",
    "    raise e from RuntimeError(\n",
    "        'Something went wrong during installation. Check the shell output above '\n",
    "        'for more information.\\n'\n",
    "        'If using a hosted Colab runtime, make sure you enable GPU acceleration '\n",
    "        'by going to the Runtime menu and selecting \"Choose runtime type\".'\n",
    "    )\n",
    "\n",
    "print('Installation successful.')\n",
    "\n",
    "# Tell XLA to use Triton GEMM, this improves steps/sec by ~30% on some GPUs\n",
    "xla_flags = os.environ.get('XLA_FLAGS', '')\n",
    "xla_flags += ' --xla_gpu_triton_gemm_any=True'\n",
    "os.environ['XLA_FLAGS'] = xla_flags"
   ]
  },
  {
   "cell_type": "code",
   "execution_count": 2,
   "id": "7ce3f23a",
   "metadata": {
    "id": "7ce3f23a"
   },
   "outputs": [],
   "source": [
    "# @title Import packages for plotting and creating graphics\n",
    "import json\n",
    "import itertools\n",
    "import time\n",
    "from typing import Callable, List, NamedTuple, Optional, Union\n",
    "import numpy as np\n",
    "\n",
    "# Graphics and plotting.\n",
    "import mediapy as media\n",
    "import matplotlib.pyplot as plt\n",
    "\n",
    "# More legible printing from numpy.\n",
    "np.set_printoptions(precision=3, suppress=True, linewidth=100)"
   ]
  },
  {
   "cell_type": "code",
   "execution_count": 3,
   "id": "06aa5acd",
   "metadata": {},
   "outputs": [],
   "source": [
    "import mujoco"
   ]
  },
  {
   "cell_type": "code",
   "execution_count": 4,
   "id": "92bcc22b",
   "metadata": {
    "colab": {
     "base_uri": "https://localhost:8080/"
    },
    "id": "92bcc22b",
    "lines_to_next_cell": 2,
    "outputId": "57b83db5-132f-469b-c008-62e65d759f97"
   },
   "outputs": [],
   "source": [
    "# @title Import MuJoCo, MJX, and Brax\n",
    "from datetime import datetime\n",
    "import functools\n",
    "import os\n",
    "import time\n",
    "\n",
    "from brax.training.agents.ppo import networks_vision as ppo_networks_vision\n",
    "from brax.training.agents.ppo import train as ppo\n",
    "from IPython.display import clear_output\n",
    "import jax\n",
    "from jax import numpy as jp\n",
    "from matplotlib import pyplot as plt\n",
    "import mediapy as media\n",
    "import numpy as np\n",
    "\n",
    "from mujoco_playground import wrapper\n",
    "\n",
    "np.set_printoptions(precision=3, suppress=True, linewidth=100)"
   ]
  },
  {
   "cell_type": "markdown",
   "id": "0902bd0d",
   "metadata": {
    "id": "0902bd0d"
   },
   "source": [
    "Now, let's load Mujoco Playground's JAX Cartpole re-implementation. While we're at it, we'll configure it for the upcoming training. Please note that calling `dm_control_suite.load` builds the rendering backend, taking around **3 minutes** on a T4 instance."
   ]
  },
  {
   "cell_type": "code",
   "execution_count": 5,
   "id": "743928b0",
   "metadata": {
    "id": "743928b0",
    "lines_to_next_cell": 2
   },
   "outputs": [
    {
     "name": "stdout",
     "output_type": "stream",
     "text": [
      "Using raytracer\n",
      "Compiling /home/dimitris/Documents/Github/madrona_mjx/external/madrona/src/mw/device/bvh.cpp\n",
      "Compiling /home/dimitris/Documents/Github/madrona_mjx/external/madrona/src/mw/device/memory.cpp\n",
      "Compiling /home/dimitris/Documents/Github/madrona_mjx/external/madrona/src/mw/device/host_print.cpp\n",
      "Compiling /home/dimitris/Documents/Github/madrona_mjx/external/madrona/src/mw/device/bvh_raycast.cpp\n",
      "Compiling GPU engine code:\n",
      "Initialization finished\n"
     ]
    }
   ],
   "source": [
    "from mujoco_playground import dm_control_suite\n",
    "\n",
    "\n",
    "num_envs = 128\n",
    "ctrl_dt = 0.04\n",
    "episode_length = int(3 / ctrl_dt)\n",
    "\n",
    "config_overrides = {\n",
    "    \"vision\": True,\n",
    "    \"vision_config.render_batch_size\": num_envs,\n",
    "    \"action_repeat\": 1,\n",
    "    \"ctrl_dt\": ctrl_dt,\n",
    "    \"episode_length\": episode_length,\n",
    "}\n",
    "\n",
    "env_name = \"CartpoleBalance\"\n",
    "env = dm_control_suite.load(\n",
    "    env_name, config_overrides=config_overrides\n",
    ")\n",
    "\n",
    "env = wrapper.wrap_for_brax_training(\n",
    "    env,\n",
    "    vision=True,\n",
    "    num_vision_envs=num_envs,\n",
    "    action_repeat=1,\n",
    "    episode_length=episode_length,\n",
    ")"
   ]
  },
  {
   "cell_type": "code",
   "execution_count": 6,
   "id": "c4d70a08",
   "metadata": {
    "id": "c4d70a08",
    "lines_to_next_cell": 2
   },
   "outputs": [],
   "source": [
    "jit_reset = jax.jit(env.reset)\n",
    "jit_step = jax.jit(env.step)"
   ]
  },
  {
   "cell_type": "markdown",
   "id": "7ab3a297",
   "metadata": {
    "id": "7ab3a297"
   },
   "source": [
    "## Balancing a Cartpole\n",
    "\n",
    "Now, let's train a pixels-to-torque policy to balance a cartpole. In [our implementation]((https://github.com/google-deepmind/mujoco_playground/blob/main/mujoco_playground/_src/dm_control_suite/cartpole.py)), we control the observation dimensionality while encouraging the agent to understand dynamics by setting the observations as grayscale images stacked across sequential timesteps."
   ]
  },
  {
   "cell_type": "markdown",
   "id": "59f3b3ac",
   "metadata": {
    "id": "59f3b3ac"
   },
   "source": [
    "#### Visualize the environment"
   ]
  },
  {
   "cell_type": "code",
   "execution_count": 7,
   "id": "6b1286e8",
   "metadata": {
    "colab": {
     "base_uri": "https://localhost:8080/",
     "height": 297
    },
    "id": "6b1286e8",
    "outputId": "449f5b20-0f85-400a-e78e-1923ccd5c750"
   },
   "outputs": [
    {
     "name": "stdout",
     "output_type": "stream",
     "text": [
      "LALA out\n",
      "LALA in vision true\n",
      "(64, 64, 4)\n",
      "<class 'jax._src.interpreters.batching.BatchTracer'>\n",
      "Step, out of vision\n"
     ]
    },
    {
     "name": "stderr",
     "output_type": "stream",
     "text": [
      "100%|██████████| 76/76 [00:00<00:00, 1321.81it/s]\n"
     ]
    },
    {
     "data": {
      "text/html": [
       "<table class=\"show_videos\" style=\"border-spacing:0px;\"><tr><td style=\"padding:1px;\"><video controls width=\"256\" height=\"256\" style=\"object-fit:cover;\" loop autoplay muted>\n",
       "      <source src=\"data:video/mp4;base64,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\" type=\"video/mp4\"/>\n",
       "      This browser does not support the video tag.\n",
       "      </video></td><td style=\"padding:1px;\"><video controls width=\"256\" height=\"256\" style=\"object-fit:cover;\" loop autoplay muted>\n",
       "      <source src=\"data:video/mp4;base64,AAAAIGZ0eXBpc29tAAACAGlzb21pc28yYXZjMW1wNDEAAAAIZnJlZQAAEdBtZGF0AAACfwYF//973EXpvebZSLeWLNgg2SPu73gyNjQgLSBjb3JlIDE1NSByMjkxNyAwYTg0ZDk4IC0gSC4yNjQvTVBFRy00IEFWQyBjb2RlYyAtIENvcHlsZWZ0IDIwMDMtMjAxOCAtIGh0dHA6Ly93d3cudmlkZW9sYW4ub3JnL3gyNjQuaHRtbCAtIG9wdGlvbnM6IGNhYmFjPTEgcmVmPTMgZGVibG9jaz0xOjA6MCBhbmFseXNlPTB4MzoweDExMyBtZT1oZXggc3VibWU9NyBwc3k9MSBwc3lfcmQ9MS4wMDowLjAwIG1peGVkX3JlZj0xIG1lX3JhbmdlPTE2IGNocm9tYV9tZT0xIHRyZWxsaXM9MSA4eDhkY3Q9MSBjcW09MCBkZWFkem9uZT0yMSwxMSBmYXN0X3Bza2lwPTEgY2hyb21hX3FwX29mZnNldD0tMiB0aHJlYWRzPTIgbG9va2FoZWFkX3RocmVhZHM9MSBzbGljZWRfdGhyZWFkcz0wIG5yPTAgZGVjaW1hdGU9MSBpbnRlcmxhY2VkPTAgYmx1cmF5X2NvbXBhdD0wIGNvbnN0cmFpbmVkX2ludHJhPTAgYmZyYW1lcz0zIGJfcHlyYW1pZD0yIGJfYWRhcHQ9MSBiX2JpYXM9MCBkaXJlY3Q9MSB3ZWlnaHRiPTEgb3Blbl9nb3A9MCB3ZWlnaHRwPTIga2V5aW50PTI1MCBrZXlpbnRfbWluPTI1IHNjZW5lY3V0PTQwIGludHJhX3JlZnJlc2g9MCByYz1jcXAgbWJ0cmVlPTAgcXA9MjAgaXBfcmF0aW89MS40MCBwYl9yYXRpbz0xLjMwIGFxPTAAgAAAAJhliIQA//70oPgU0F+JAbL2ISUw5Gl1mRqPlhOLah0iW9wwmWl1EIITJ5uhmy94vhxvpDRqXg49KzYN6bIkWHLx+ztDeGxjcuDCMsS3ndUR8km9b4wZ19W5mwpPwTr3zVuJRQf4cUvFBv9o7CAfqN/bEv57lNzk+uTkCes3sPRdcmwYl2ePBgayRS11zLNfY7tXvODp3CsX4QAAACBBmiRsf80b/8uVVHsII53H1bHOmwC8B5dBt7MB2t1/uAAAAAtBnkJ4r3coEsVj4QAAAAsBnmF0Sf/KAhHbgAAAAA4BnmNqSf/aCP5wh+O9sQAAACBBmmVJqEFomUwP/63Rn9u6p1iOU6WPx14Lj7IwVyjFQQAAAElBmolJ4QpSZTA/sbnMWBTUEqDJ8LFJAsogmK+xl/7hmaLKQXRicbvf3UpeN7Z5S1/dWCs0XB6ER/zR27b2rg17raaBDESNDDW/AAAAIUGep0U0TX/WmZ2ZJKsJKlcycBSZjN68Sm78Fvlf2vjR8QAAAA8BnsZ0Sf/CohD8hIncMCAAAAAeAZ7Iakn/ymdRif6Zol1CvBJCvh3q21h4AY2Sl/xwAAAAfUGazUmoQWiZTA//y/3Cl18dEfwf2hKYeXU4/xA/2CcAoe5IsRV2osi1z3U0TA1AcSothd7Ka4+Ew4wNiS3wP8HuUnPmQ8jyPmxVS3DcuNtb/xLCIM6N7qadIv3FyiAujlr2LUk+/2sgK1K6npesNEu/2RhhsSlENol6mI3BAAAAOkGe60URLX+/xD8f4J76U9wnaT6s0EiIul6pKrmOXqq71fEcC4OUJQNNU8CVT9xd7+wCHGVQIcfDf3AAAAAxAZ8KdEn/yi/3GvvZ2SvJyGtJyjiCtwBvwlHNrfoogRgzF4edEQ6OqRW2R4fliqZXcAAAAEQBnwxqSf/aCEgoEGgEnpXFtVoLMXsuP0+ZkJ3cujZFoFzsfHuxDO8jAKAcvxvC3Kep13KgeNoZJaBIaaucqQ+2v99vgQAAAFpBmw5JqEFsmUwP/8yrTUjE4yNjJrbABEVVTPLxahC5PJxR/WS9NP5qitsnGP9d9MeaewOFgoydyzQBuZlmbJj7Q608+x8VPlcfYWGVDKH7UXiuys1KL26tN4EAAABtQZsySeEKUmUwP+rRQB/bO0jrrcPqZlxoxa1huqTieZ84y0ZC2ZpnpNqLpIGUB9nX+Mv9eWlWnsqza5DOaVlPFd+mJKDT1n74I+8HC0slPqEoWyNvf/lTH2dw2/fC31OTMl1e36rNrqQoxobM/QAAAE5Bn1BFNE1/cbT+sTVcnH9MhQJdlh6fbvy02YDdPFjfPX9TLbgCtmtJOV6KvVDy5j9Td+YibjWT9X8oTEdLie2RCzMB2SXisjy6Br/0L/AAAAA/AZ9vdEn/fJfDvkeZTR0wxYMG8yl9Oyi6/KU3odoRJcziV2qGjl1sXt5wnqh1wiN5d2cCyDtmDGZhLIuhIMxgAAAAPQGfcWpJ/3uQ5nA2dYAzi970wFM+ShAWebGHh+vwDhgzD6FF2lXJSvbvWuvMLINdSQ9gpCrwoxj+64dW2Z0AAACPQZt2SahBaJlMD//q1i3oiNrWXAjKZCujTpjtTw8aWbshbNk/5Hd0z7T0AYUszA8T/+Hwz49PGMTgeW8LH/DMictrhMW0c7t6IRkTCx7IDuRD1KKu8zSHMRNYNak2xaJmM3fXRYAuu544BRIiJhEYkDOhLmrlrLK3GTDBgcogAgTHfQqh1+BZ/JUzN6SC7X4AAABcQZ+URREtf3QYBE1NvRwoTt/h2qPxYsp6/vA8HafNJhKqEsIiOz56TnTX8MQHVd24ozEtbAlARWPiYlebi8E+/GGXS/WFLmmEBYod1UwYhA10EUdwOVbyc0mneFgAAABEAZ+zdEn/cwrLoPntarAJe1KjoEDQeDbn/5X6UYzT9Bhah28iAe+S9tfEAuZpopZM32jEHfi1HGC5wbxhQrTD+91H6WEAAABcAZ+1akn/ZbHloo0UR4L/uEEf1QGIift47KpJv88DyoykewYdlXMCiLJZolas2SKksAnh+WMW0NXA3QSZx7BbgBU+ugH9fpq3DuCu9ANlysZb9Rw3ypHs65EmrMAAAAAmQZu6SahBbJlMD//mDdoaQuG+qEoWb1/hFw2LHMTJo4n82HJjjykAAABJQZ/YRRUtf1mME+HOU7BBHAxigECJ6P1vJjaK4G9QmnO2c+Ql2zde/0vdCBi9oEPmgHwrpScpwVheNLM9KHBtJNw5+UacBoYP4QAAAD0Bn/d0Sf9jOJxdMFehCix5t0v1tAYTWVcyI6QeCsjVtBzEYzkWucaEemUNLq84kylzHoaMN1fMtbsYeh+AAAAAIAGf+WpJ/2NrfwT3lAzvi0V8gDpYv5nbNDCgI2VdbUPxAAAAIEGb/kmoQWyZTA//5kz3DHDFlwy+ZOlnaeH21RpJbZpPAAAADEGeHEUVLX9Wi/YvVwAAAAoBnjt0Sf9ccCRZAAAACgGePWpJ/14FNWAAAAA6QZoiSahBbJlMD//mTNSubjR9Q1xIrwfghrtJm1jE1/J4k6hga1yVMoJHfbNQhDua3aAQ89CsjyRRwAAAAAxBnkBFFS1/XLXGQoEAAAAJAZ5/dEn/Pfv+AAAAIQGeYWpJ/5Sf+HVzebZbewqy6bvlZRyoq8MAwZiDVwRLJQAAAENBmmZJqEFsmUwP/+YIKn/qgC/jvEMhsLIU+Sp+WKaqv2zmTFMNr7+lCJS5fV2lJy91DSNTLfxqepHDrI3MDyO5ja/wAAAARUGehEUVLX9bOaq7+iCc+P+FafkmPF7us5GT5SxMUzbVOrn/hOq3LnHmOBX3t2XbQRl0OVWAS96xrDgCVvRysK8akIOegQAAAEIBnqN0Sf9g3B+Gq2vB+MCL8RrCsFu1h1g7gi3znzguHICLUzzLKwCYrDVb2yre5ZwDNvgN7tDtbYBAdTJMSNhU56EAAABXAZ6lakn/Q3zd7Xl30LCmvXQdr/976Z4qogtbGxeV84MrDi6FAgYpRBicDB0FyOsFMthy1sqcFUHB3HwT8RbEtxaJa3egWwb9nw83wr6BHii5ZaCiX+MbAAAAFUGaqkmoQWyZTA//5IcuAADN21r/4wAAAAtBnshFFS1/O7sQgAAAAAoBnud0Sf88tKKAAAAACAGe6WpJ/ywhAAAAOUGa7kmoQWyZTA///dpgl4Q5i4OBhCPjQ7hpq7+JUxQ0zmrqP7UxmTVah0pk0YTz1zjTHqz47yuZ4AAAAAtBnwxFFS1/noq13AAAAAgBnyt0Sf8sIQAAAAoBny1qSf+YJhO5AAAAZkGbMkmoQWyZTA//+iITWtWLMCfPjsHAZYIH/onEzN2eEUva6JZn8efX5IseEW0rFfi7koWPhAHrY4/0OF6HY7ToIWh4/6aIn8i6IQ5n06/NQ1VMfGrMquY0mjAhKHqx+/Wq+6BbwQAAAEhBn1BFFS1/mmhzY/Q+wEoUE3CwWXlntml582hIthXE9iMd0PNkXTJ7GmkfxprTRHnrYsVrxqj3CWGiy1BJHNy+nDIc+3mMK9IAAAA2AZ9vdEn/k2FgTFnrEC5ydhbn/wVajV8wT1IiXXU5MYErfItXkZoE+mvKbauBZaDlV64qPLaUAAAASwGfcWpJ/2aU2mP1Ai+snYbzW6wspoWpwFmbYb0nGleaE5ssmjmJM0Nn3iMzrbvJP+bR7FzA+oZVKNOTLLBuSMGDrbIVnEeWkh+fCQAAABBBm3ZJqEFsmUwP/+SHIQw2AAAAC0GflEUVLX88+vpwAAAAMAGfs3RJ/z1vKvjp2hYs2kKhVtXBk+a+jx3QcSMHscM8KMS/Q4rd7nwj8dmcW37z/QAAAAkBn7VqSf89HhgAAAAOQZu6SahBbJlMD//kTfkAAAAJQZ/YRRUtfyghAAAACAGf93RJ/ywgAAAACAGf+WpJ/ywhAAAATUGb/kmoQWyZTA//5KWYj2cJZltg72h/uAnraD6OYitvRlMe/HARjqeT/T7q90UHrmCLd9ZJG8SdUDNtK9HM0RV6BrA1zk/zTtVGrXPwAAAANEGeHEUVLX9W+lMrzPypyuw+rNRzYKrwGY0fAsn9XSddi3CKsFtw2BztJz0Wu2z8UVsYsIEAAAAtAZ47dEn/pe6EMp5b+Y+PNEzHa3wYPW975hxlP+1kJMGFSc+wFY8ICw9KZzKFAAAAOAGePWpJ/2DcHyYxDG3jqNqlYnDnGHXRWXKwfLtx4K0/OZFN78r7MHxBm1BhQMvP+n8/LNdtd7TGAAAAGUGaIkmoQWyZTA//5d9csFYaQ0v2vBnEhIAAAABEQZ5ARRUtf1qwLWRX/bMvOWIyDXYj1Fe0glyfrdExXYxnorxc6sZjp5ix1Ay0Y+60VNXaoHj0vnSQs2UG8U/58U1R/8EAAABRAZ5/dEn/W0hHL4vw277MmKBF+HrX2vdKYHzy6HNFCE/OfoZOhmKxbFqxX9DWDWtMe/sfOCjsj5xXxQnRYFhHyWxLHpy74KPnZTy+ufNMQlmAAAAADAGeYWpJ/1tIqJtXwQAAACdBmmZJqEFsmUwP/+XkGd13twhwLrkxLW8neGruJpfECUzON7R/X4AAAAANQZ6ERRUtf1x+XL7xgQAAAAoBnqN0Sf9eibb9AAAACgGepWpJ/14dNhUAAABlQZqqSahBbJlMD//n50wxXWo8dEfwcdL8o1ybM+qwpHhH8/7fj2mYAQaUdaWXOL1vuupBlisKoU+fUXTZq5i2vfSocToXHgrdNxCD+enSH95Vcl53CYMHt25zvrgWD/ba+QD12+EAAABGQZ7IRRUtf4/LwUwTn0yF8R/2UISHewragVR1f85GOu3cL0+i1dZA9jGhbU3dZBJ/hyiuNZGfewmW1UmK5FXhOSHBhiIizAAAADUBnud0Sf+Y/RPZT3I6m9M4FF/pYfO5jZSAYehg2PlbXbkJigDIhOWSotw7c9427J5dpQQs+AAAAD4BnulqSf+UW/QLJEzXX4umsK/mwPbdOGGZm8ZYAZaKFtWxbsU1mc1RdDZNSo/xNVzBWJxkVQzvXhhFKvuf8QAAAGVBmutJqEFsmUwP/7OWyo5cH4UhnaRrGgYxpfM1e3jjopWMSUNzpYBRApDWcMXTCQpYDbyY0lKrYK4nOHEjArj8H61VISTnSGYT405ptFbwU+76pZL/iXsCn7TnFdiPKFjnZjV/lgAABqFtb292AAAAbG12aGQAAAAAAAAAAAAAAAAAAAPoAAAL4AABAAABAAAAAAAAAAAAAAAAAQAAAAAAAAAAAAAAAAAAAAEAAAAAAAAAAAAAAAAAAEAAAAAAAAAAAAAAAAAAAAAAAAAAAAAAAAAAAAAAAAACAAAFy3RyYWsAAABcdGtoZAAAAAMAAAAAAAAAAAAAAAEAAAAAAAAL4AAAAAAAAAAAAAAAAAAAAAAAAQAAAAAAAAAAAAAAAAAAAAEAAAAAAAAAAAAAAAAAAEAAAAAAQAAAAEAAAAAAACRlZHRzAAAAHGVsc3QAAAAAAAAAAQAAC+AAAAQAAAEAAAAABUNtZGlhAAAAIG1kaGQAAAAAAAAAAAAAAAAAADIAAACYAFXEAAAAAAAtaGRscgAAAAAAAAAAdmlkZQAAAAAAAAAAAAAAAFZpZGVvSGFuZGxlcgAAAATubWluZgAAABR2bWhkAAAAAQAAAAAAAAAAAAAAJGRpbmYAAAAcZHJlZgAAAAAAAAABAAAADHVybCAAAAABAAAErnN0YmwAAACWc3RzZAAAAAAAAAABAAAAhmF2YzEAAAAAAAAAAQAAAAAAAAAAAAAAAAAAAAAAQABAAEgAAABIAAAAAAAAAAEAAAAAAAAAAAAAAAAAAAAAAAAAAAAAAAAAAAAAAAAAAAAY//8AAAAwYXZjQwFkAAr/4QAXZ2QACqzZRCaEAAADAAQAAAMAyDxIllgBAAZo6+GyyLAAAAAYc3R0cwAAAAAAAAABAAAATAAAAgAAAAAUc3RzcwAAAAAAAAABAAAAAQAAAnBjdHRzAAAAAAAAAEwAAAABAAAEAAAAAAEAAAoAAAAAAQAABAAAAAABAAAAAAAAAAEAAAIAAAAAAQAABAAAAAABAAAKAAAAAAEAAAQAAAAAAQAAAAAAAAABAAACAAAAAAEAAAoAAAAAAQAABAAAAAABAAAAAAAAAAEAAAIAAAAAAQAABAAAAAABAAAKAAAAAAEAAAQAAAAAAQAAAAAAAAABAAACAAAAAAEAAAoAAAAAAQAABAAAAAABAAAAAAAAAAEAAAIAAAAAAQAACgAAAAABAAAEAAAAAAEAAAAAAAAAAQAAAgAAAAABAAAKAAAAAAEAAAQAAAAAAQAAAAAAAAABAAACAAAAAAEAAAoAAAAAAQAABAAAAAABAAAAAAAAAAEAAAIAAAAAAQAACgAAAAABAAAEAAAAAAEAAAAAAAAAAQAAAgAAAAABAAAKAAAAAAEAAAQAAAAAAQAAAAAAAAABAAACAAAAAAEAAAoAAAAAAQAABAAAAAABAAAAAAAAAAEAAAIAAAAAAQAACgAAAAABAAAEAAAAAAEAAAAAAAAAAQAAAgAAAAABAAAKAAAAAAEAAAQAAAAAAQAAAAAAAAABAAACAAAAAAEAAAoAAAAAAQAABAAAAAABAAAAAAAAAAEAAAIAAAAAAQAACgAAAAABAAAEAAAAAAEAAAAAAAAAAQAAAgAAAAABAAAKAAAAAAEAAAQAAAAAAQAAAAAAAAABAAACAAAAAAEAAAoAAAAAAQAABAAAAAABAAAAAAAAAAEAAAIAAAAAAQAACgAAAAABAAAEAAAAAAEAAAAAAAAAAQAAAgAAAAABAAAEAAAAABxzdHNjAAAAAAAAAAEAAAABAAAATAAAAAEAAAFEc3RzegAAAAAAAAAAAAAATAAAAx8AAAAkAAAADwAAAA8AAAASAAAAJAAAAE0AAAAlAAAAEwAAACIAAACBAAAAPgAAADUAAABIAAAAXgAAAHEAAABSAAAAQwAAAEEAAACTAAAAYAAAAEgAAABgAAAAKgAAAE0AAABBAAAAJAAAACQAAAAQAAAADgAAAA4AAAA+AAAAEAAAAA0AAAAlAAAARwAAAEkAAABGAAAAWwAAABkAAAAPAAAADgAAAAwAAAA9AAAADwAAAAwAAAAOAAAAagAAAEwAAAA6AAAATwAAABQAAAAPAAAANAAAAA0AAAASAAAADQAAAAwAAAAMAAAAUQAAADgAAAAxAAAAPAAAAB0AAABIAAAAVQAAABAAAAArAAAAEQAAAA4AAAAOAAAAaQAAAEoAAAA5AAAAQgAAAGkAAAAUc3RjbwAAAAAAAAABAAAAMAAAAGJ1ZHRhAAAAWm1ldGEAAAAAAAAAIWhkbHIAAAAAAAAAAG1kaXJhcHBsAAAAAAAAAAAAAAAALWlsc3QAAAAlqXRvbwAAAB1kYXRhAAAAAQAAAABMYXZmNTguMjkuMTAw\" type=\"video/mp4\"/>\n",
       "      This browser does not support the video tag.\n",
       "      </video></td></tr></table>"
      ],
      "text/plain": [
       "<IPython.core.display.HTML object>"
      ]
     },
     "metadata": {},
     "output_type": "display_data"
    }
   ],
   "source": [
    "def unvmap(x):\n",
    "  return jax.tree.map(lambda y: y[0], x)\n",
    "\n",
    "\n",
    "state = jit_reset(jax.random.split(jax.random.PRNGKey(0), num_envs))\n",
    "rollout = [unvmap(state)]\n",
    "\n",
    "f = 0.2\n",
    "for i in range(episode_length):\n",
    "  action = []\n",
    "  for j in range(env.action_size):\n",
    "    action.append(\n",
    "        jp.sin(\n",
    "            unvmap(state).data.time * 2 * jp.pi * f\n",
    "            + j * 2 * jp.pi / env.action_size\n",
    "        )\n",
    "    )\n",
    "  action = jp.tile(jp.array(action), (num_envs, 1))\n",
    "  state = jit_step(state, action)\n",
    "  rollout.append(unvmap(state))\n",
    "\n",
    "frames = env.render(rollout, camera=\"fixed\", width=256, height=256)\n",
    "k = next(iter(rollout[0].obs.items()), None)[0]  # ex: pixels/view_0\n",
    "obs = [r.obs[k][..., 0] for r in rollout]  # visualise first channel\n",
    "\n",
    "media.show_videos([frames, obs], fps=1.0 / env.dt, height=256)"
   ]
  },
  {
   "cell_type": "markdown",
   "id": "686f6663",
   "metadata": {
    "id": "686f6663"
   },
   "source": [
    "#### Train\n",
    "Training the policy takes 4 minutes on a hosted T4 instance."
   ]
  },
  {
   "cell_type": "code",
   "execution_count": 8,
   "id": "06333cd4",
   "metadata": {
    "id": "06333cd4",
    "lines_to_next_cell": 2
   },
   "outputs": [],
   "source": [
    "from mujoco_playground.config import dm_control_suite_params\n",
    "\n",
    "# Load vision-specific PPO configuration tuned for CartpoleBalance\n",
    "ppo_params = dm_control_suite_params.brax_vision_ppo_config(env_name)\n",
    "ppo_params.episode_length = episode_length\n",
    "ppo_params.network_factory = ppo_networks_vision.make_ppo_networks_vision\n",
    "ppo_params['batch_size'] = 128\n",
    "ppo_params['num_envs'] = ppo_params['num_eval_envs'] = num_envs"
   ]
  },
  {
   "cell_type": "code",
   "execution_count": 9,
   "id": "e4fe0057",
   "metadata": {},
   "outputs": [],
   "source": [
    "from mujoco import mjx\n",
    "import cv2"
   ]
  },
  {
   "cell_type": "code",
   "execution_count": 10,
   "id": "6a1237b8",
   "metadata": {},
   "outputs": [],
   "source": [
    "mj_data = mujoco.MjData(env.mj_model)\n",
    "mjx_data = mjx.put_data(env.mj_model,mj_data)"
   ]
  },
  {
   "cell_type": "code",
   "execution_count": 24,
   "id": "2013c1b6",
   "metadata": {},
   "outputs": [
    {
     "name": "stdout",
     "output_type": "stream",
     "text": [
      "LALA out\n",
      "LALA in vision true\n",
      "(128, 64, 64, 3)\n"
     ]
    }
   ],
   "source": [
    "madrona_renderer = env.renderer\n",
    "rng = jax.random.PRNGKey(42)\n",
    "key_rng = jax.random.split(rng, num_envs)\n",
    "state = env.reset(key_rng)\n",
    "obs = state.obs[\"pixels/view_0\"]\n",
    "\n",
    "print(obs.shape)\n",
    "\n",
    "\n",
    "\n",
    "\n",
    "\n"
   ]
  },
  {
   "cell_type": "code",
   "execution_count": 37,
   "id": "4606eb44",
   "metadata": {},
   "outputs": [],
   "source": [
    "import jax.numpy as jnp\n",
    "import jax"
   ]
  },
  {
   "cell_type": "code",
   "execution_count": null,
   "id": "292b1b8f",
   "metadata": {},
   "outputs": [
    {
     "name": "stdout",
     "output_type": "stream",
     "text": [
      "(64, 64, 4)\n",
      "<class 'jax._src.interpreters.batching.BatchTracer'>\n",
      "(64, 64, 4)\n",
      "<class 'jax._src.interpreters.batching.BatchTracer'>\n",
      "<class 'jax._src.numpy.array_methods._IndexUpdateRef'>\n",
      "<class 'numpy.ndarray'>\n",
      "_IndexUpdateRef(Traced<ShapedArray(float32[64,64,4])>with<BatchTrace> with\n",
      "  val = Traced<ShapedArray(float32[128,64,64,4])>with<DynamicJaxprTrace>\n",
      "  batch_dim = 0, (Ellipsis, slice(0, 4, None)))\n"
     ]
    }
   ],
   "source": [
    "######## My shell to test ########\n",
    "# madrona_renderer = env.renderer\n",
    "# render_token, rgb, _ = madrona_renderer.init(mjx_data, env.mjx_model)\n",
    "print(env.last_rgb.shape)\n",
    "print(type(env.last_rgb))\n",
    "\n",
    "jax_rgb = env.last_rgb              \n",
    "\n",
    "rgba_jax = jax.device_get(jax_rgb)   \n",
    "print(rgba_jax.shape)\n",
    "\n",
    "print(type(rgba_jax))\n",
    "\n",
    "# 3. Grab the first frame and drop alpha\n",
    "rgb_jax = rgba_jax.at[...,0:3]            # (H, W, 4)\n",
    "print(type(rgb_jax))\n",
    "\n",
    "img_np = np.asarray(rgb_jax)  \n",
    "print(type(img_np))\n",
    "\n",
    "print((img_np))\n",
    "\n",
    "\n",
    "\n",
    "\n"
   ]
  },
  {
   "cell_type": "code",
   "execution_count": null,
   "id": "2f419702",
   "metadata": {
    "id": "2f419702",
    "lines_to_next_cell": 2
   },
   "outputs": [],
   "source": [
    "x_data, y_data, y_dataerr = [], [], []\n",
    "times = [datetime.now()]\n",
    "\n",
    "\n",
    "def progress(num_steps, metrics):\n",
    "  clear_output(wait=True)\n",
    "\n",
    "  times.append(datetime.now())\n",
    "  x_data.append(num_steps)\n",
    "  y_data.append(metrics[\"eval/episode_reward\"])\n",
    "  y_dataerr.append(metrics[\"eval/episode_reward_std\"])\n",
    "\n",
    "  plt.xlim([0, ppo_params[\"num_timesteps\"] * 1.25])\n",
    "  plt.ylim([0, 100])\n",
    "  plt.xlabel(\"# environment steps\")\n",
    "  plt.ylabel(\"reward per episode\")\n",
    "  plt.title(f\"y={y_data[-1]:.3f}\")\n",
    "  plt.errorbar(x_data, y_data, yerr=y_dataerr, color=\"blue\")\n",
    "\n",
    "  display(plt.gcf())\n",
    "\n",
    "\n",
    "train_fn = functools.partial(\n",
    "    ppo.train, **dict(ppo_params), progress_fn=progress\n",
    ")"
   ]
  },
  {
   "cell_type": "code",
   "execution_count": null,
   "id": "3fb88915",
   "metadata": {
    "colab": {
     "base_uri": "https://localhost:8080/",
     "height": 962
    },
    "id": "3fb88915",
    "outputId": "a8d7c74b-3fa2-4441-f2da-662b4d3162b4"
   },
   "outputs": [],
   "source": [
    "make_inference_fn, params, metrics = train_fn(environment=env)\n",
    "print(f\"time to jit: {times[1] - times[0]}\")\n",
    "print(f\"time to train: {times[-1] - times[1]}\")"
   ]
  },
  {
   "cell_type": "markdown",
   "id": "076c1ca1",
   "metadata": {
    "id": "076c1ca1"
   },
   "source": [
    "#### Visualize the Policy"
   ]
  },
  {
   "cell_type": "code",
   "execution_count": null,
   "id": "0cd8dec1",
   "metadata": {
    "id": "0cd8dec1",
    "lines_to_next_cell": 2
   },
   "outputs": [],
   "source": [
    "jit_reset = jax.jit(env.reset)\n",
    "jit_step = jax.jit(env.step)\n",
    "jit_inference_fn = jax.jit(make_inference_fn(params, deterministic=True))"
   ]
  },
  {
   "cell_type": "code",
   "execution_count": null,
   "id": "64532268",
   "metadata": {
    "colab": {
     "base_uri": "https://localhost:8080/",
     "height": 713
    },
    "id": "64532268",
    "outputId": "1d8c7315-93a5-4345-d888-3f9256966f81"
   },
   "outputs": [],
   "source": [
    "rng = jax.random.PRNGKey(42)\n",
    "rollout = []\n",
    "n_episodes = 1\n",
    "\n",
    "for _ in range(n_episodes):\n",
    "  key_rng = jax.random.split(rng, num_envs)\n",
    "  state = jit_reset(key_rng)\n",
    "  rollout.append(unvmap(state))\n",
    "  for i in range(episode_length):\n",
    "    act_rng, rng = jax.random.split(rng)\n",
    "    act_rng = jax.random.split(act_rng, num_envs)\n",
    "    ctrl, _ = jit_inference_fn(state.obs, act_rng)\n",
    "    state = jit_step(state, ctrl)\n",
    "    rollout.append(unvmap(state))\n",
    "\n",
    "render_every = 1\n",
    "frames = env.render(rollout[::render_every], camera=\"fixed\")\n",
    "rewards = [s.reward for s in rollout]\n",
    "media.show_video(frames, fps=1.0 / env.dt / render_every)\n",
    "\n",
    "plt.plot(np.convolve(rewards, np.ones(10) / 10, mode=\"valid\"))\n",
    "plt.xlabel(\"time step\")\n",
    "plt.ylabel(\"reward\")\n",
    "plt.show()"
   ]
  },
  {
   "cell_type": "markdown",
   "id": "eddb3fc3",
   "metadata": {
    "id": "eddb3fc3"
   },
   "source": [
    "🙌 Stay tuned for more hosted instances with Madrona-MJX rendering support!"
   ]
  }
 ],
 "metadata": {
  "accelerator": "GPU",
  "colab": {
   "gpuType": "T4",
   "provenance": []
  },
  "jupytext": {
   "cell_metadata_filter": "-all",
   "encoding": "# coding: utf-8",
   "executable": "/usr/bin/env python",
   "main_language": "python",
   "notebook_metadata_filter": "-all"
  },
  "kernelspec": {
   "display_name": "mjx_playground_madrona",
   "language": "python",
   "name": "python3"
  },
  "language_info": {
   "codemirror_mode": {
    "name": "ipython",
    "version": 3
   },
   "file_extension": ".py",
   "mimetype": "text/x-python",
   "name": "python",
   "nbconvert_exporter": "python",
   "pygments_lexer": "ipython3",
   "version": "3.10.16"
  }
 },
 "nbformat": 4,
 "nbformat_minor": 5
}
